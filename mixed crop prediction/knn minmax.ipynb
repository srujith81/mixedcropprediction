{
 "cells": [
  {
   "cell_type": "code",
   "execution_count": 3,
   "id": "538eae72",
   "metadata": {
    "scrolled": false
   },
   "outputs": [
    {
     "name": "stdout",
     "output_type": "stream",
     "text": [
      "Accuracy for label: 0.9863636363636363\n",
      "Accuracy for crop: 0.46136363636363636\n",
      "1\n",
      "2\n",
      "3\n",
      "4\n",
      "5\n",
      "6\n",
      "7\n",
      "Predicted label: kidneybeans\n",
      "Predicted crop: brinjal\n"
     ]
    }
   ],
   "source": [
    "import numpy as np\n",
    "import pandas as pd\n",
    "from sklearn.compose import ColumnTransformer\n",
    "from sklearn.model_selection import train_test_split\n",
    "from sklearn.preprocessing import MinMaxScaler, LabelEncoder\n",
    "from sklearn.multioutput import MultiOutputClassifier\n",
    "from sklearn.neighbors import KNeighborsClassifier\n",
    "from sklearn.metrics import accuracy_score\n",
    "\n",
    "# Load data\n",
    "data = pd.read_csv(\"mixedcrop.csv\")\n",
    "\n",
    "# Split data into features (x) and labels (y)\n",
    "x = data.iloc[:, :-2]\n",
    "y = data.iloc[:, [7, 8]]\n",
    "\n",
    "# Split data into training and testing sets\n",
    "x_train, x_test, y_train, y_test = train_test_split(x, y, test_size=0.2, stratify=y, random_state=0)\n",
    "\n",
    "# Encode labels\n",
    "lab = LabelEncoder()\n",
    "lab1 = LabelEncoder()\n",
    "data[\"label\"] = lab.fit_transform(data[\"label\"])\n",
    "data[\"crop\"] = lab1.fit_transform(data[\"crop\"])\n",
    "\n",
    "# Use ColumnTransformer to explicitly provide feature names\n",
    "preprocessor = ColumnTransformer(\n",
    "    transformers=[\n",
    "        ('num', MinMaxScaler(), x.columns)\n",
    "    ])\n",
    "\n",
    "# Fit and transform the training set\n",
    "x_train_scaled = preprocessor.fit_transform(x_train)\n",
    "\n",
    "# Transform the test set\n",
    "x_test_scaled = preprocessor.transform(x_test)\n",
    "\n",
    "# Create KNeighborsClassifier model\n",
    "knn = KNeighborsClassifier(n_neighbors=3)\n",
    "model = MultiOutputClassifier(knn)\n",
    "\n",
    "# Fit the model\n",
    "model.fit(x_train_scaled, y_train)\n",
    "\n",
    "# Predict on the test set\n",
    "y_pred = model.predict(x_test_scaled)\n",
    "\n",
    "# Calculate accuracy for each output\n",
    "accuracy_label = accuracy_score(y_test[\"label\"], y_pred[:, 0])\n",
    "accuracy_crop = accuracy_score(y_test[\"crop\"], y_pred[:, 1])\n",
    "\n",
    "print(\"Accuracy for label:\", accuracy_label)\n",
    "print(\"Accuracy for crop:\", accuracy_crop)\n",
    "\n",
    "# Take user input for prediction\n",
    "a = []\n",
    "for i in range(7):\n",
    "    a.append(float(input()))\n",
    "a = np.array(a)\n",
    "\n",
    "# Use ColumnTransformer to explicitly provide feature names for user input\n",
    "a_scaled = preprocessor.transform(pd.DataFrame([a], columns=x.columns))\n",
    "\n",
    "# Make predictions on user input\n",
    "prediction = model.predict(a_scaled)\n",
    "\n",
    "c1 = prediction[0, 0]\n",
    "c2 = prediction[0, 1]\n",
    "\n",
    "print(\"Predicted label:\", c1)\n",
    "print(\"Predicted crop:\", c2)\n"
   ]
  },
  {
   "cell_type": "code",
   "execution_count": 4,
   "id": "19014104",
   "metadata": {},
   "outputs": [],
   "source": [
    "total_acc=0.9863636363636363+0.46136363636363636"
   ]
  },
  {
   "cell_type": "code",
   "execution_count": 5,
   "id": "81aae609",
   "metadata": {},
   "outputs": [
    {
     "data": {
      "text/plain": [
       "0.7238636363636364"
      ]
     },
     "execution_count": 5,
     "metadata": {},
     "output_type": "execute_result"
    }
   ],
   "source": [
    "total_acc/2"
   ]
  },
  {
   "cell_type": "code",
   "execution_count": null,
   "id": "84833f3d",
   "metadata": {},
   "outputs": [],
   "source": []
  }
 ],
 "metadata": {
  "kernelspec": {
   "display_name": "Python 3 (ipykernel)",
   "language": "python",
   "name": "python3"
  },
  "language_info": {
   "codemirror_mode": {
    "name": "ipython",
    "version": 3
   },
   "file_extension": ".py",
   "mimetype": "text/x-python",
   "name": "python",
   "nbconvert_exporter": "python",
   "pygments_lexer": "ipython3",
   "version": "3.9.13"
  }
 },
 "nbformat": 4,
 "nbformat_minor": 5
}
