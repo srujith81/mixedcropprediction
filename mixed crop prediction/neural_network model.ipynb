{
 "cells": [
  {
   "cell_type": "code",
   "execution_count": 1,
   "id": "45e814d2",
   "metadata": {},
   "outputs": [
    {
     "name": "stdout",
     "output_type": "stream",
     "text": [
      "Accuracy for label: 0.9886363636363636\n",
      "Accuracy for crop: 0.47045454545454546\n",
      "1\n",
      "2\n",
      "3\n",
      "4\n",
      "5\n",
      "6\n",
      "7\n",
      "Predicted label: papaya\n",
      "Predicted crop: mango\n"
     ]
    }
   ],
   "source": [
    "import numpy as np\n",
    "import pandas as pd\n",
    "from sklearn.model_selection import train_test_split\n",
    "from sklearn.preprocessing import StandardScaler, LabelEncoder\n",
    "from sklearn.multioutput import MultiOutputClassifier\n",
    "from sklearn.neural_network import MLPClassifier\n",
    "from sklearn.metrics import accuracy_score\n",
    "\n",
    "# Load data\n",
    "data = pd.read_csv(\"mixedcrop.csv\")\n",
    "\n",
    "# Split data into features (x) and labels (y)\n",
    "x = data.iloc[:, :-2]\n",
    "y = data.iloc[:, [7, 8]]\n",
    "\n",
    "# Split data into training and testing sets\n",
    "x_train, x_test, y_train, y_test = train_test_split(x, y, test_size=0.2, stratify=y, random_state=0)\n",
    "\n",
    "# Standardize features\n",
    "sc = StandardScaler()\n",
    "x_train = sc.fit_transform(x_train)\n",
    "x_test = sc.transform(x_test)\n",
    "\n",
    "# Encode labels\n",
    "lab = LabelEncoder()\n",
    "lab1 = LabelEncoder()\n",
    "data[\"label\"] = lab.fit_transform(data[\"label\"])\n",
    "data[\"crop\"] = lab1.fit_transform(data[\"crop\"])\n",
    "\n",
    "# Create KNeighborsClassifier model\n",
    "mlp = MLPClassifier(hidden_layer_sizes=(100,), max_iter=2000, random_state=0)\n",
    "\n",
    "model = MultiOutputClassifier(mlp)\n",
    "# Fit the model\n",
    "model.fit(x_train, y_train)\n",
    "\n",
    "# Predict on the test set\n",
    "y_pred = model.predict(x_test)\n",
    "\n",
    "# Calculate accuracy for each output\n",
    "accuracy_label = accuracy_score(y_test[\"label\"], y_pred[:, 0])\n",
    "accuracy_crop = accuracy_score(y_test[\"crop\"], y_pred[:, 1])\n",
    "\n",
    "print(\"Accuracy for label:\", accuracy_label)\n",
    "print(\"Accuracy for crop:\", accuracy_crop)\n",
    "\n",
    "# Take user input for prediction\n",
    "a = []\n",
    "for i in range(7):\n",
    "    a.append(float(input()))\n",
    "a = np.array(a)\n",
    "\n",
    "# Make predictions on user input\n",
    "prediction = model.predict(a.reshape(1, -1))\n",
    "\n",
    "c1 = prediction[0, 0]\n",
    "c2 = prediction[0, 1]\n",
    "\n",
    "print(\"Predicted label:\", c1)\n",
    "print(\"Predicted crop:\", c2)\n"
   ]
  },
  {
   "cell_type": "code",
   "execution_count": 4,
   "id": "c64baaf4",
   "metadata": {},
   "outputs": [],
   "source": [
    "total_acc= 0.9886363636363636+0.47045454545454546"
   ]
  },
  {
   "cell_type": "code",
   "execution_count": 5,
   "id": "17290917",
   "metadata": {},
   "outputs": [
    {
     "data": {
      "text/plain": [
       "0.7295454545454545"
      ]
     },
     "execution_count": 5,
     "metadata": {},
     "output_type": "execute_result"
    }
   ],
   "source": [
    "total_acc/2\n"
   ]
  },
  {
   "cell_type": "code",
   "execution_count": null,
   "id": "260ac618",
   "metadata": {},
   "outputs": [],
   "source": []
  }
 ],
 "metadata": {
  "kernelspec": {
   "display_name": "Python 3 (ipykernel)",
   "language": "python",
   "name": "python3"
  },
  "language_info": {
   "codemirror_mode": {
    "name": "ipython",
    "version": 3
   },
   "file_extension": ".py",
   "mimetype": "text/x-python",
   "name": "python",
   "nbconvert_exporter": "python",
   "pygments_lexer": "ipython3",
   "version": "3.9.13"
  }
 },
 "nbformat": 4,
 "nbformat_minor": 5
}
