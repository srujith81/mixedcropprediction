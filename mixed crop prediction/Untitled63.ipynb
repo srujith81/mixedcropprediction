{
 "cells": [
  {
   "cell_type": "code",
   "execution_count": 9,
   "id": "e8c91d42",
   "metadata": {
    "scrolled": true
   },
   "outputs": [
    {
     "name": "stdout",
     "output_type": "stream",
     "text": [
      "Top Similar Crop Pairs:\n",
      "rice and jute (Similarity: 0.9941063571798683)\n",
      "banana and grapes (Similarity: 0.9896507322765389)\n",
      "mothbeans and apple (Similarity: 0.9890241896906179)\n",
      "orange and cotton (Similarity: 0.9840191116415614)\n",
      "coconut and cotton (Similarity: 0.9795816292486466)\n",
      "orange and coconut (Similarity: 0.9791030287064212)\n",
      "lentil and muskmelon (Similarity: 0.9754880716610298)\n",
      "blackgram and coconut (Similarity: 0.9754026350851149)\n",
      "watermelon and muskmelon (Similarity: 0.9749158670960092)\n",
      "pomegranate and orange (Similarity: 0.9743921176169276)\n"
     ]
    }
   ],
   "source": [
    "import pandas as pd\n",
    "from sklearn.preprocessing import StandardScaler\n",
    "from sklearn.metrics.pairwise import cosine_similarity\n",
    "\n",
    "# Load your dataset\n",
    "data = pd.read_csv(\"Crop_recommendation.csv\")\n",
    "\n",
    "# Extract relevant features\n",
    "features = [\"N\", \"P\", \"K\", \"temperature\", \"humidity\", \"ph\", \"rainfall\"]\n",
    "\n",
    "# Standardize features\n",
    "scaler = StandardScaler()\n",
    "scaled_data = scaler.fit_transform(data[features])\n",
    "\n",
    "# Calculate cosine similarity between crops\n",
    "similarities = cosine_similarity(scaled_data)\n",
    "\n",
    "# Rank and select similar crop pairs\n",
    "crop_names = data[\"label\"].unique()\n",
    "similar_crop_pairs = []\n",
    "\n",
    "for i in range(len(crop_names)):\n",
    "    for j in range(i + 1, len(crop_names)):\n",
    "        crop1 = crop_names[i]\n",
    "        crop2 = crop_names[j]\n",
    "        similarity_score = similarities[i, j]\n",
    "\n",
    "        # Store the crop pair and similarity score\n",
    "        similar_crop_pairs.append({\"crop1\": crop1, \"crop2\": crop2, \"similarity\": similarity_score})\n",
    "\n",
    "# Rank the similar crop pairs based on similarity score\n",
    "ranked_crop_pairs = sorted(similar_crop_pairs, key=lambda x: x[\"similarity\"], reverse=True)\n",
    "\n",
    "# Select the top-ranked similar crop pairs for further consideration\n",
    "top_crop_pairs = ranked_crop_pairs[:10]  # Adjust the number based on your preferences\n",
    "\n",
    "# Output the final list of similar crop pairs\n",
    "print(\"Top Similar Crop Pairs:\")\n",
    "for pair in top_crop_pairs:\n",
    "    print(f\"{pair['crop1']} and {pair['crop2']} (Similarity: {pair['similarity']})\")\n"
   ]
  },
  {
   "cell_type": "code",
   "execution_count": 1,
   "id": "32bdeae2",
   "metadata": {},
   "outputs": [
    {
     "name": "stdout",
     "output_type": "stream",
     "text": [
      "Requirement already satisfied: scipy in c:\\users\\dell\\anaconda3\\lib\\site-packages (1.9.1)\n",
      "Collecting scipy\n",
      "  Downloading scipy-1.11.4-cp39-cp39-win_amd64.whl (44.3 MB)\n",
      "     ---------------------------------------- 44.3/44.3 MB 1.4 MB/s eta 0:00:00\n",
      "Requirement already satisfied: numpy<1.28.0,>=1.21.6 in c:\\users\\dell\\anaconda3\\lib\\site-packages (from scipy) (1.24.3)\n",
      "Installing collected packages: scipy\n",
      "  Attempting uninstall: scipy\n",
      "    Found existing installation: scipy 1.9.1\n",
      "    Uninstalling scipy-1.9.1:\n",
      "      Successfully uninstalled scipy-1.9.1\n",
      "Successfully installed scipy-1.11.4\n"
     ]
    }
   ],
   "source": [
    "!pip install --upgrade scipy\n"
   ]
  },
  {
   "cell_type": "code",
   "execution_count": null,
   "id": "5a62bc43",
   "metadata": {},
   "outputs": [],
   "source": []
  }
 ],
 "metadata": {
  "kernelspec": {
   "display_name": "Python 3 (ipykernel)",
   "language": "python",
   "name": "python3"
  },
  "language_info": {
   "codemirror_mode": {
    "name": "ipython",
    "version": 3
   },
   "file_extension": ".py",
   "mimetype": "text/x-python",
   "name": "python",
   "nbconvert_exporter": "python",
   "pygments_lexer": "ipython3",
   "version": "3.9.13"
  }
 },
 "nbformat": 4,
 "nbformat_minor": 5
}
