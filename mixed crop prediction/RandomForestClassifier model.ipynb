{
 "cells": [
  {
   "cell_type": "code",
   "execution_count": 1,
   "id": "1cd2faac",
   "metadata": {},
   "outputs": [
    {
     "name": "stdout",
     "output_type": "stream",
     "text": [
      "Accuracy for label: 0.9977272727272727\n",
      "Accuracy for crop: 0.4909090909090909\n",
      "2\n",
      "1\n",
      "3\n",
      "4\n",
      "56\n",
      "7\n",
      "3\n",
      "Predicted label: muskmelon\n",
      "Predicted crop: maize\n"
     ]
    },
    {
     "name": "stderr",
     "output_type": "stream",
     "text": [
      "C:\\Users\\Dell\\anaconda3\\lib\\site-packages\\sklearn\\base.py:420: UserWarning: X does not have valid feature names, but RandomForestClassifier was fitted with feature names\n",
      "  warnings.warn(\n",
      "C:\\Users\\Dell\\anaconda3\\lib\\site-packages\\sklearn\\base.py:420: UserWarning: X does not have valid feature names, but RandomForestClassifier was fitted with feature names\n",
      "  warnings.warn(\n"
     ]
    }
   ],
   "source": [
    "import numpy as np\n",
    "import pandas as pd\n",
    "from sklearn.model_selection import train_test_split\n",
    "from sklearn.preprocessing import StandardScaler, LabelEncoder\n",
    "from sklearn.preprocessing import MinMaxScaler, LabelEncoder\n",
    "from sklearn.multioutput import MultiOutputClassifier\n",
    "from sklearn.ensemble import RandomForestClassifier\n",
    "from sklearn.metrics import accuracy_score\n",
    "\n",
    "# Load data\n",
    "data = pd.read_csv(\"mixedcrop.csv\")\n",
    "\n",
    "# Split data into features (x) and labels (y)\n",
    "x = data.iloc[:, :-2]\n",
    "y = data.iloc[:, [7, 8]]\n",
    "\n",
    "# Split data into training and testing sets\n",
    "x_train, x_test, y_train, y_test = train_test_split(x, y, test_size=0.2, stratify=y, random_state=0)\n",
    "\n",
    "# Use MinMaxScaler to scale features\n",
    "sc = MinMaxScaler()\n",
    "x_train_scaled = sc.fit_transform(x_train)\n",
    "x_test_scaled = sc.transform(x_test)\n",
    "\n",
    "\n",
    "# Encode labels\n",
    "lab = LabelEncoder()\n",
    "lab1 = LabelEncoder()\n",
    "data[\"label\"] = lab.fit_transform(data[\"label\"])\n",
    "data[\"crop\"] = lab1.fit_transform(data[\"crop\"])\n",
    "\n",
    "# Create KNeighborsClassifier model\n",
    "rf = RandomForestClassifier(n_estimators=100, random_state=0)\n",
    "model = MultiOutputClassifier(rf)\n",
    "\n",
    "# Fit the model\n",
    "model.fit(x_train, y_train)\n",
    "\n",
    "# Predict on the test set\n",
    "y_pred = model.predict(x_test)\n",
    "\n",
    "# Calculate accuracy for each output\n",
    "accuracy_label = accuracy_score(y_test[\"label\"], y_pred[:, 0])\n",
    "accuracy_crop = accuracy_score(y_test[\"crop\"], y_pred[:, 1])\n",
    "\n",
    "print(\"Accuracy for label:\", accuracy_label)\n",
    "print(\"Accuracy for crop:\", accuracy_crop)\n",
    "\n",
    "# Take user input for prediction\n",
    "a = []\n",
    "for i in range(7):\n",
    "    a.append(float(input()))\n",
    "a = np.array(a)\n",
    "\n",
    "# Make predictions on user input\n",
    "prediction = model.predict(a.reshape(1, -1))\n",
    "\n",
    "c1 = prediction[0, 0]\n",
    "c2 = prediction[0, 1]\n",
    "\n",
    "print(\"Predicted label:\", c1)\n",
    "print(\"Predicted crop:\", c2)\n"
   ]
  },
  {
   "cell_type": "code",
   "execution_count": 5,
   "id": "f4478945",
   "metadata": {},
   "outputs": [],
   "source": [
    "total_acc=0.9977272727272727+0.4909090909090909"
   ]
  },
  {
   "cell_type": "code",
   "execution_count": 6,
   "id": "7ebe4913",
   "metadata": {},
   "outputs": [
    {
     "data": {
      "text/plain": [
       "0.7443181818181818"
      ]
     },
     "execution_count": 6,
     "metadata": {},
     "output_type": "execute_result"
    }
   ],
   "source": [
    "total_acc/2"
   ]
  },
  {
   "cell_type": "code",
   "execution_count": null,
   "id": "e92dd55d",
   "metadata": {},
   "outputs": [],
   "source": []
  }
 ],
 "metadata": {
  "kernelspec": {
   "display_name": "Python 3 (ipykernel)",
   "language": "python",
   "name": "python3"
  },
  "language_info": {
   "codemirror_mode": {
    "name": "ipython",
    "version": 3
   },
   "file_extension": ".py",
   "mimetype": "text/x-python",
   "name": "python",
   "nbconvert_exporter": "python",
   "pygments_lexer": "ipython3",
   "version": "3.9.13"
  }
 },
 "nbformat": 4,
 "nbformat_minor": 5
}
